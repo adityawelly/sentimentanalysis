{
  "nbformat": 4,
  "nbformat_minor": 0,
  "metadata": {
    "colab": {
      "name": "Untitled0.ipynb",
      "provenance": [],
      "collapsed_sections": [],
      "authorship_tag": "ABX9TyPeKDLkyBrlEYZwX2JL7wHr",
      "include_colab_link": true
    },
    "kernelspec": {
      "name": "python3",
      "display_name": "Python 3"
    }
  },
  "cells": [
    {
      "cell_type": "markdown",
      "metadata": {
        "id": "view-in-github",
        "colab_type": "text"
      },
      "source": [
        "<a href=\"https://colab.research.google.com/github/adityawelly/sentimentanalysis/blob/master/Scrapping.ipynb\" target=\"_parent\"><img src=\"https://colab.research.google.com/assets/colab-badge.svg\" alt=\"Open In Colab\"/></a>"
      ]
    },
    {
      "cell_type": "code",
      "metadata": {
        "id": "iQLf72jONVdP",
        "colab_type": "code",
        "colab": {}
      },
      "source": [
        "import json\n",
        "import tweepy\n",
        "import csv\n",
        "import re"
      ],
      "execution_count": 0,
      "outputs": []
    },
    {
      "cell_type": "code",
      "metadata": {
        "id": "IpKeSqB-NZSH",
        "colab_type": "code",
        "colab": {}
      },
      "source": [
        "def search_for(consumer_key, consumer_secret, access_token, access_token_secret, keyword):\n",
        "    \n",
        "    #create authentication for accessing Twitter\n",
        "    auth = tweepy.OAuthHandler(consumer_key, consumer_secret)\n",
        "    auth.set_access_token(access_token, access_token_secret)\n",
        "\n",
        "    #initialize Tweepy API\n",
        "    api = tweepy.API(auth)\n",
        "    \n",
        "    #get the name of the spreadsheet we will write to\n",
        "    fname = keyword\n",
        "    #open the spreadsheet we will write to\n",
        "    with open('%s.csv' % (fname), 'w',encoding=\"utf-8\") as file:\n",
        "\n",
        "        w = csv.writer(file)\n",
        "\n",
        "        #write header row to spreadsheet\n",
        "        w.writerow(['timestamp', 'tweet_text', 'username', 'all_hashtags', 'followers_count'])\n",
        "\n",
        "        #for each tweet matching our hashtags, write relevant info to the spreadsheet\n",
        "        for tweet in tweepy.Cursor(api.search, q=keyword+' -filter:retweets', \\\n",
        "                                   lang=\"id\",since=\"2019-08-26\",tweet_mode='extended').items(10):\n",
        "            print (tweet.created_at, tweet.full_text.encode('utf8'), tweet.user.screen_name)\n",
        "            w.writerow([tweet.created_at, tweet.full_text.encode('utf8'), tweet.user.screen_name, [e['text'] for e in tweet._json['entities']['hashtags']], tweet.user.followers_count])"
      ],
      "execution_count": 0,
      "outputs": []
    },
    {
      "cell_type": "code",
      "metadata": {
        "id": "6-9TMJ8UNyJt",
        "colab_type": "code",
        "outputId": "d2fd521b-5b4c-409f-9f9c-ad0a1c97dcbb",
        "colab": {
          "base_uri": "https://localhost:8080/",
          "height": 207
        }
      },
      "source": [
        "consumer_key = '5RuvqzmM3Bnj7MvyULaq6BMJR'\n",
        "consumer_secret = 'oQ1vdPVvuKdzKx5WneApdkrxvG2SJQ5BkdKmvsVPuHzeEtkaYj'\n",
        "access_token = '1225770758405685248-5sNLqITOihOEIuNeRiHna21t7lZBgt'\n",
        "access_token_secret = 'SwYACfLhI0IdbIVgnXA3AMJpzA3mrjzmdEmwufPDpO9W5'\n",
        "    \n",
        "keyword = 'ibukota'\n",
        "\n",
        "if __name__ == '__main__':\n",
        "    search_for(consumer_key, consumer_secret, access_token, access_token_secret, keyword)"
      ],
      "execution_count": 4,
      "outputs": [
        {
          "output_type": "stream",
          "text": [
            "2020-03-15 23:22:41 b'@yusuf_dumdum Mau buat ibukota baru..? Masker dan peralatan medis saja kewalahan ..' Muchsin26971161\n",
            "2020-03-15 23:19:36 b\"Pure Zionist itu gk gali2 tanah di kompleks Masjidil Aqsa. Pure Zionist itu mengetahui bahwa 'The Promised Land' yg sebenarnya itu bukan di tanah Kana'an melainkan di pulau Jawa. Nama resmi ibukota Israel adalah Java Tel Aviv, nama yg terpampang di kantor2 pemerintahan disana.\" fawzans8\n",
            "2020-03-15 23:10:56 b'@QiraniAyara Yess....\\nGak jadi pindah ibukota \\xf0\\x9f\\xa4\\xa9\\xf0\\x9f\\xa4\\xa9\\xf0\\x9f\\xa4\\xb2\\xf0\\x9f\\xa4\\xb2' abang_izuL\n",
            "2020-03-15 23:06:18 b'@zoelfick @berlianidris 446 T biaya pindah ibukota...' doni_awak\n",
            "2020-03-15 22:54:17 b'haha lucunya penduduk ibukota negara ku\\xf0\\x9f\\x98\\xad https://t.co/39lpyljiUN' FirzaRamadhan19\n",
            "2020-03-15 22:50:18 b'@billy_rania @unbricker @Bobby4574676035 Kalimantan ?\\nkan mo pindah ibukota ke sana' SayangKamuAkuTo\n",
            "2020-03-15 22:44:23 b'@faizalassegaf Si Rasis berkoar\\xc2\\xb2 duid ibukota cairrrrr.....' andri_attitude\n",
            "2020-03-15 22:44:22 b'Defisit BPJS,APBN Merugi,Firus Corona semua tidak mampu di tangani e gaya gayaan mau mindahin ibukota negara. Bilang aja mau jualan tana di ibukota yang baru.' PemudaH57607619\n",
            "2020-03-15 22:34:03 b'@alvinlie21 Dan ngomongin pindah ibukota, padahal mereka lagi dihadapkan sama hidup dan mati, mrk gak tau ta kl virus corona ini sangat berbahaya bila sudah menyerang kita paru2 yg di serang dipenuhi cairan dan paru2 jadi luka' Erawan60118757\n",
            "2020-03-15 22:33:04 b'@RezanHayon @detikcom @detikinet emang lu pada becus ngurusin ibukota? \\xf0\\x9f\\x98\\x91 , nyinyir ae bisa nya \\xf0\\x9f\\xa4\\xa3\\xf0\\x9f\\xa4\\xa3\\xf0\\x9f\\xa4\\xa3' kang_fadhl\n"
          ],
          "name": "stdout"
        }
      ]
    },
    {
      "cell_type": "code",
      "metadata": {
        "id": "KwU_5S2ZOZ2R",
        "colab_type": "code",
        "colab": {}
      },
      "source": [
        ""
      ],
      "execution_count": 0,
      "outputs": []
    }
  ]
}